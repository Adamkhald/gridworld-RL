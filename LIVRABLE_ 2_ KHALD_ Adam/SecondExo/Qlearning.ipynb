{
 "cells": [
  {
   "cell_type": "markdown",
   "id": "b14bd984",
   "metadata": {},
   "source": [
    "Q-learning"
   ]
  },
  {
   "cell_type": "code",
   "execution_count": 2,
   "id": "efd7d769",
   "metadata": {},
   "outputs": [
    {
     "name": "stderr",
     "output_type": "stream",
     "text": [
      "Gym has been unmaintained since 2022 and does not support NumPy 2.0 amongst other critical functionality.\n",
      "Please upgrade to Gymnasium, the maintained drop-in replacement of Gym, or contact the authors of your software and request that they upgrade.\n",
      "Users of this version of Gym should be able to simply replace 'import gym' with 'import gymnasium as gym' in the vast majority of cases.\n",
      "See the migration guide at https://gymnasium.farama.org/introduction/migration_guide/ for additional information.\n"
     ]
    }
   ],
   "source": [
    "import numpy as np\n",
    "import pandas as pd\n",
    "import seaborn as sns\n",
    "import matplotlib.pyplot as plt\n",
    "import gym\n",
    "from gym import spaces\n"
   ]
  },
  {
   "cell_type": "code",
   "execution_count": 3,
   "id": "f02a8911",
   "metadata": {},
   "outputs": [],
   "source": [
    "def create_gridworld(size=5, start=(0,0), goal=(4,4)):\n",
    "    \"\"\"Create a GridWorld environment as a dictionary with state and spaces.\"\"\"\n",
    "    env = {\n",
    "        \"size\": size,\n",
    "        \"start\": np.array(start, dtype=int),\n",
    "        \"goal\": np.array(goal, dtype=int),\n",
    "        \"agent_pos\": np.array(start, dtype=int),\n",
    "        \"observation_space\": spaces.MultiDiscrete([size, size]),\n",
    "        \"action_space\": spaces.Discrete(4)\n",
    "    }\n",
    "    return env"
   ]
  },
  {
   "cell_type": "code",
   "execution_count": 4,
   "id": "9361d2ca",
   "metadata": {},
   "outputs": [],
   "source": [
    "import numpy as np\n",
    "\n",
    "def q_learning(env, num_episodes=5000, alpha=0.1, gamma=0.9, epsilon=0.1):\n",
    "    size = env[\"size\"]\n",
    "    n_actions = env[\"action_space\"].n\n",
    "    goal = tuple(env[\"goal\"])\n",
    "\n",
    "    # Initialize Q(s,a) arbitrarily\n",
    "    Q = np.zeros((size, size, n_actions))\n",
    "    \n",
    "    def choose_action(state):\n",
    "        r, c = state\n",
    "        if np.random.rand() < epsilon:\n",
    "            return np.random.randint(n_actions)  # explore\n",
    "        else:\n",
    "            return np.argmax(Q[r, c])           # exploit\n",
    "    \n",
    "    for ep in range(num_episodes):\n",
    "        obs = reset(env)\n",
    "        done = False\n",
    "        \n",
    "        while not done:\n",
    "            r, c = obs\n",
    "            action = choose_action((r, c))\n",
    "            next_obs, reward, done = step(env, action)\n",
    "            nr, nc = next_obs\n",
    "            \n",
    "            # Q-Learning update (off-policy)\n",
    "            Q[r, c, action] += alpha * (reward + gamma * np.max(Q[nr, nc]) - Q[r, c, action])\n",
    "            \n",
    "            obs = next_obs\n",
    "    \n",
    "    # Derive greedy policy from Q\n",
    "    policy = np.argmax(Q, axis=2)\n",
    "    return Q, policy\n"
   ]
  },
  {
   "cell_type": "code",
   "execution_count": 5,
   "id": "522d54ba",
   "metadata": {},
   "outputs": [],
   "source": [
    "def reset(env):\n",
    "    env[\"agent_pos\"] = env[\"start\"].copy()\n",
    "    return env[\"agent_pos\"]"
   ]
  },
  {
   "cell_type": "code",
   "execution_count": 6,
   "id": "213b03cb",
   "metadata": {},
   "outputs": [],
   "source": [
    "def render_plot(env):\n",
    "    \"\"\"Render the grid using matplotlib\"\"\"\n",
    "    size = env[\"size\"]\n",
    "    grid = np.zeros((size, size))\n",
    "\n",
    "    r, c = env[\"agent_pos\"]\n",
    "    gr, gc = env[\"goal\"]\n",
    "\n",
    "    # Goal = 2, Agent = 1\n",
    "    grid[gr, gc] = 2\n",
    "    grid[r, c] = 1\n",
    "\n",
    "    plt.imshow(grid, cmap=\"Pastel1\", origin=\"upper\")\n",
    "    plt.xticks(range(size))\n",
    "    plt.yticks(range(size))\n",
    "    plt.grid(True, which=\"both\", color=\"black\", linewidth=1)\n",
    "    plt.show()\n"
   ]
  },
  {
   "cell_type": "code",
   "execution_count": 7,
   "id": "f205e05a",
   "metadata": {},
   "outputs": [],
   "source": [
    "def step(env, action):\n",
    "    r, c = env[\"agent_pos\"]\n",
    "    size = env[\"size\"]\n",
    "    goal = env[\"goal\"]\n",
    "\n",
    "    if action == 0:      # UP\n",
    "        r = max(0, r-1)\n",
    "    elif action == 1:    # RIGHT\n",
    "        c = min(size-1, c+1)\n",
    "    elif action == 2:    # DOWN\n",
    "        r = min(size-1, r+1)\n",
    "    elif action == 3:    # LEFT\n",
    "        c = max(0, c-1)\n",
    "\n",
    "    env[\"agent_pos\"] = np.array([r, c])\n",
    "    done = np.array_equal(env[\"agent_pos\"], goal)\n",
    "    reward = 10 if done else -1\n",
    "    return env[\"agent_pos\"], reward, done"
   ]
  },
  {
   "cell_type": "code",
   "execution_count": 8,
   "id": "1ed8bc1d",
   "metadata": {},
   "outputs": [],
   "source": [
    "def run_policy(env, policy):\n",
    "    obs = reset(env)\n",
    "    total_reward = 0\n",
    "    done = False\n",
    "    \n",
    "    while not done:\n",
    "        r, c = obs\n",
    "        action = policy[r, c]\n",
    "        obs, reward, done = step(env, action)\n",
    "        total_reward += reward\n",
    "        render_plot(env)\n",
    "        print(f\"Action: {action}, Obs: {obs}, Reward: {reward}, Accumulated: {total_reward}\")\n",
    "    \n",
    "    print(\"Episode finished! Total reward:\", total_reward)\n"
   ]
  },
  {
   "cell_type": "code",
   "execution_count": 9,
   "id": "f9c5956a",
   "metadata": {},
   "outputs": [
    {
     "data": {
      "image/png": "[encoded data removed]",
      "text/plain": [
       "<Figure size 640x480 with 1 Axes>"
      ]
     },
     "metadata": {},
     "output_type": "display_data"
    },
    {
     "name": "stdout",
     "output_type": "stream",
     "text": [
      "Action: 2, Obs: [1 0], Reward: -1, Accumulated: -1\n"
     ]
    },
    {
     "data": {
      "image/png": "[encoded data removed]",
      "text/plain": [
       "<Figure size 640x480 with 1 Axes>"
      ]
     },
     "metadata": {},
     "output_type": "display_data"
    },
    {
     "name": "stdout",
     "output_type": "stream",
     "text": [
      "Action: 1, Obs: [1 1], Reward: -1, Accumulated: -2\n"
     ]
    },
    {
     "data": {
      "image/png": "[encoded data removed]",
      "text/plain": [
       "<Figure size 640x480 with 1 Axes>"
      ]
     },
     "metadata": {},
     "output_type": "display_data"
    },
    {
     "name": "stdout",
     "output_type": "stream",
     "text": [
      "Action: 1, Obs: [1 2], Reward: -1, Accumulated: -3\n"
     ]
    },
    {
     "data": {
      "image/png": "[encoded data removed]",
      "text/plain": [
       "<Figure size 640x480 with 1 Axes>"
      ]
     },
     "metadata": {},
     "output_type": "display_data"
    },
    {
     "name": "stdout",
     "output_type": "stream",
     "text": [
      "Action: 2, Obs: [2 2], Reward: -1, Accumulated: -4\n"
     ]
    },
    {
     "data": {
      "image/png": "[encoded data removed]",
      "text/plain": [
       "<Figure size 640x480 with 1 Axes>"
      ]
     },
     "metadata": {},
     "output_type": "display_data"
    },
    {
     "name": "stdout",
     "output_type": "stream",
     "text": [
      "Action: 1, Obs: [2 3], Reward: -1, Accumulated: -5\n"
     ]
    },
    {
     "data": {
      "image/png": "[encoded data removed]",
      "text/plain": [
       "<Figure size 640x480 with 1 Axes>"
      ]
     },
     "metadata": {},
     "output_type": "display_data"
    },
    {
     "name": "stdout",
     "output_type": "stream",
     "text": [
      "Action: 2, Obs: [3 3], Reward: -1, Accumulated: -6\n"
     ]
    },
    {
     "data": {
      "image/png": "[encoded data removed]",
      "text/plain": [
       "<Figure size 640x480 with 1 Axes>"
      ]
     },
     "metadata": {},
     "output_type": "display_data"
    },
    {
     "name": "stdout",
     "output_type": "stream",
     "text": [
      "Action: 1, Obs: [3 4], Reward: -1, Accumulated: -7\n"
     ]
    },
    {
     "data": {
      "image/png": "[encoded data removed]",
      "text/plain": [
       "<Figure size 640x480 with 1 Axes>"
      ]
     },
     "metadata": {},
     "output_type": "display_data"
    },
    {
     "name": "stdout",
     "output_type": "stream",
     "text": [
      "Action: 2, Obs: [4 4], Reward: 10, Accumulated: 3\n",
      "Episode finished! Total reward: 3\n"
     ]
    }
   ],
   "source": [
    "env = create_gridworld()\n",
    "Q, policy = q_learning(env, num_episodes=5000, alpha=0.1, gamma=0.9, epsilon=0.1)\n",
    "run_policy(env, policy)\n"
   ]
  }
 ],
 "metadata": {
  "kernelspec": {
   "display_name": "RL",
   "language": "python",
   "name": "python3"
  },
  "language_info": {
   "codemirror_mode": {
    "name": "ipython",
    "version": 3
   },
   "file_extension": ".py",
   "mimetype": "text/x-python",
   "name": "python",
   "nbconvert_exporter": "python",
   "pygments_lexer": "ipython3",
   "version": "3.13.5"
  }
 },
 "nbformat": 4,
 "nbformat_minor": 5
}
